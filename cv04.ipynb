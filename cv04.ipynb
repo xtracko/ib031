{
 "cells": [
  {
   "cell_type": "code",
   "execution_count": 21,
   "metadata": {},
   "outputs": [
    {
     "data": {
      "text/html": [
       "<table>\n",
       "<tbody>\n",
       "\t<tr><td>-0.56047565</td><td> 0.4609162 </td><td> 0.4007715 </td><td> 0.7013559 </td><td>-0.6250393 </td><td> 0.4264642 </td><td> 0.55391765</td><td>-1.2653964 </td></tr>\n",
       "\t<tr><td>-0.23017749</td><td>-1.2650612 </td><td> 0.1106827 </td><td>-0.4727914 </td><td>-1.6866933 </td><td>-0.2950715 </td><td>-0.06191171</td><td> 2.1689560 </td></tr>\n",
       "\t<tr><td> 1.55870831</td><td>-0.6868529 </td><td>-0.5558411 </td><td>-1.0678237 </td><td> 0.8377870 </td><td> 0.8951257 </td><td>-0.30596266</td><td> 1.2079620 </td></tr>\n",
       "\t<tr><td> 0.07050839</td><td>-0.4456620 </td><td> 1.7869131 </td><td>-0.2179749 </td><td> 0.1533731 </td><td> 0.8781335 </td><td>-0.38047100</td><td>-1.1231086 </td></tr>\n",
       "\t<tr><td> 0.12928774</td><td> 1.2240818 </td><td> 0.4978505 </td><td>-1.0260044 </td><td>-1.1381369 </td><td> 0.8215811 </td><td>-0.69470698</td><td>-0.4028848 </td></tr>\n",
       "\t<tr><td> 1.71506499</td><td> 0.3598138 </td><td>-1.9666172 </td><td>-0.7288912 </td><td> 1.2538149 </td><td> 0.6886403 </td><td>-0.20791728</td><td>-0.4666554 </td></tr>\n",
       "</tbody>\n",
       "</table>\n"
      ],
      "text/latex": [
       "\\begin{tabular}{llllllll}\n",
       "\t -0.56047565 &  0.4609162  &  0.4007715  &  0.7013559  & -0.6250393  &  0.4264642  &  0.55391765 & -1.2653964 \\\\\n",
       "\t -0.23017749 & -1.2650612  &  0.1106827  & -0.4727914  & -1.6866933  & -0.2950715  & -0.06191171 &  2.1689560 \\\\\n",
       "\t  1.55870831 & -0.6868529  & -0.5558411  & -1.0678237  &  0.8377870  &  0.8951257  & -0.30596266 &  1.2079620 \\\\\n",
       "\t  0.07050839 & -0.4456620  &  1.7869131  & -0.2179749  &  0.1533731  &  0.8781335  & -0.38047100 & -1.1231086 \\\\\n",
       "\t  0.12928774 &  1.2240818  &  0.4978505  & -1.0260044  & -1.1381369  &  0.8215811  & -0.69470698 & -0.4028848 \\\\\n",
       "\t  1.71506499 &  0.3598138  & -1.9666172  & -0.7288912  &  1.2538149  &  0.6886403  & -0.20791728 & -0.4666554 \\\\\n",
       "\\end{tabular}\n"
      ],
      "text/markdown": [
       "\n",
       "| -0.56047565 |  0.4609162  |  0.4007715  |  0.7013559  | -0.6250393  |  0.4264642  |  0.55391765 | -1.2653964  | \n",
       "| -0.23017749 | -1.2650612  |  0.1106827  | -0.4727914  | -1.6866933  | -0.2950715  | -0.06191171 |  2.1689560  | \n",
       "|  1.55870831 | -0.6868529  | -0.5558411  | -1.0678237  |  0.8377870  |  0.8951257  | -0.30596266 |  1.2079620  | \n",
       "|  0.07050839 | -0.4456620  |  1.7869131  | -0.2179749  |  0.1533731  |  0.8781335  | -0.38047100 | -1.1231086  | \n",
       "|  0.12928774 |  1.2240818  |  0.4978505  | -1.0260044  | -1.1381369  |  0.8215811  | -0.69470698 | -0.4028848  | \n",
       "|  1.71506499 |  0.3598138  | -1.9666172  | -0.7288912  |  1.2538149  |  0.6886403  | -0.20791728 | -0.4666554  | \n",
       "\n",
       "\n"
      ],
      "text/plain": [
       "     [,1]        [,2]       [,3]       [,4]       [,5]       [,6]      \n",
       "[1,] -0.56047565  0.4609162  0.4007715  0.7013559 -0.6250393  0.4264642\n",
       "[2,] -0.23017749 -1.2650612  0.1106827 -0.4727914 -1.6866933 -0.2950715\n",
       "[3,]  1.55870831 -0.6868529 -0.5558411 -1.0678237  0.8377870  0.8951257\n",
       "[4,]  0.07050839 -0.4456620  1.7869131 -0.2179749  0.1533731  0.8781335\n",
       "[5,]  0.12928774  1.2240818  0.4978505 -1.0260044 -1.1381369  0.8215811\n",
       "[6,]  1.71506499  0.3598138 -1.9666172 -0.7288912  1.2538149  0.6886403\n",
       "     [,7]        [,8]      \n",
       "[1,]  0.55391765 -1.2653964\n",
       "[2,] -0.06191171  2.1689560\n",
       "[3,] -0.30596266  1.2079620\n",
       "[4,] -0.38047100 -1.1231086\n",
       "[5,] -0.69470698 -0.4028848\n",
       "[6,] -0.20791728 -0.4666554"
      ]
     },
     "metadata": {},
     "output_type": "display_data"
    },
    {
     "data": {
      "text/html": [
       "<ol>\n",
       "\t<li><table>\n",
       "<tbody>\n",
       "\t<tr><td>1</td><td>1</td><td>0</td></tr>\n",
       "\t<tr><td>0</td><td>1</td><td>1</td></tr>\n",
       "\t<tr><td>0</td><td>0</td><td>0</td></tr>\n",
       "</tbody>\n",
       "</table>\n",
       "</li>\n",
       "\t<li><table>\n",
       "<tbody>\n",
       "\t<tr><td>1</td><td>0</td><td>0</td><td>1</td></tr>\n",
       "\t<tr><td>1</td><td>0</td><td>0</td><td>0</td></tr>\n",
       "\t<tr><td>1</td><td>1</td><td>1</td><td>1</td></tr>\n",
       "</tbody>\n",
       "</table>\n",
       "</li>\n",
       "\t<li><table>\n",
       "<tbody>\n",
       "\t<tr><td>1</td><td>0</td><td>1</td><td>1</td></tr>\n",
       "\t<tr><td>1</td><td>0</td><td>0</td><td>1</td></tr>\n",
       "\t<tr><td>0</td><td>0</td><td>0</td><td>1</td></tr>\n",
       "\t<tr><td>1</td><td>0</td><td>0</td><td>1</td></tr>\n",
       "</tbody>\n",
       "</table>\n",
       "</li>\n",
       "</ol>\n"
      ],
      "text/latex": [
       "\\begin{enumerate}\n",
       "\\item \\begin{tabular}{lll}\n",
       "\t 1 & 1 & 0\\\\\n",
       "\t 0 & 1 & 1\\\\\n",
       "\t 0 & 0 & 0\\\\\n",
       "\\end{tabular}\n",
       "\n",
       "\\item \\begin{tabular}{llll}\n",
       "\t 1 & 0 & 0 & 1\\\\\n",
       "\t 1 & 0 & 0 & 0\\\\\n",
       "\t 1 & 1 & 1 & 1\\\\\n",
       "\\end{tabular}\n",
       "\n",
       "\\item \\begin{tabular}{llll}\n",
       "\t 1 & 0 & 1 & 1\\\\\n",
       "\t 1 & 0 & 0 & 1\\\\\n",
       "\t 0 & 0 & 0 & 1\\\\\n",
       "\t 1 & 0 & 0 & 1\\\\\n",
       "\\end{tabular}\n",
       "\n",
       "\\end{enumerate}\n"
      ],
      "text/markdown": [
       "1. \n",
       "| 1 | 1 | 0 | \n",
       "| 0 | 1 | 1 | \n",
       "| 0 | 0 | 0 | \n",
       "\n",
       "\n",
       "\n",
       "2. \n",
       "| 1 | 0 | 0 | 1 | \n",
       "| 1 | 0 | 0 | 0 | \n",
       "| 1 | 1 | 1 | 1 | \n",
       "\n",
       "\n",
       "\n",
       "3. \n",
       "| 1 | 0 | 1 | 1 | \n",
       "| 1 | 0 | 0 | 1 | \n",
       "| 0 | 0 | 0 | 1 | \n",
       "| 1 | 0 | 0 | 1 | \n",
       "\n",
       "\n",
       "\n",
       "\n",
       "\n"
      ],
      "text/plain": [
       "[[1]]\n",
       "     [,1] [,2] [,3]\n",
       "[1,]    1    1    0\n",
       "[2,]    0    1    1\n",
       "[3,]    0    0    0\n",
       "\n",
       "[[2]]\n",
       "     [,1] [,2] [,3] [,4]\n",
       "[1,]    1    0    0    1\n",
       "[2,]    1    0    0    0\n",
       "[3,]    1    1    1    1\n",
       "\n",
       "[[3]]\n",
       "     [,1] [,2] [,3] [,4]\n",
       "[1,]    1    0    1    1\n",
       "[2,]    1    0    0    1\n",
       "[3,]    0    0    0    1\n",
       "[4,]    1    0    0    1\n"
      ]
     },
     "metadata": {},
     "output_type": "display_data"
    }
   ],
   "source": [
    "set.seed(123)\n",
    "\n",
    "X <- matrix(rnorm(48), 6, 8)\n",
    "X\n",
    "\n",
    "matrices <- list(matrix(sample(c(0, 1), 9, replace = T), 3, 3), matrix(sample(c(0, 1), 12, replace = T), 3, 4),\n",
    "                 matrix(sample(c(0, 1), 16, replace = T), 4, 4))\n",
    "matrices"
   ]
  },
  {
   "cell_type": "code",
   "execution_count": 31,
   "metadata": {},
   "outputs": [
    {
     "data": {
      "text/html": [
       "<ol class=list-inline>\n",
       "\t<li>0.0925141671916087</li>\n",
       "\t<li>-1.73206795484552</li>\n",
       "\t<li>1.8831026616193</li>\n",
       "\t<li>0.721711664623227</li>\n",
       "\t<li>-0.588932107071642</li>\n",
       "\t<li>0.647252971547067</li>\n",
       "</ol>\n"
      ],
      "text/latex": [
       "\\begin{enumerate*}\n",
       "\\item 0.0925141671916087\n",
       "\\item -1.73206795484552\n",
       "\\item 1.8831026616193\n",
       "\\item 0.721711664623227\n",
       "\\item -0.588932107071642\n",
       "\\item 0.647252971547067\n",
       "\\end{enumerate*}\n"
      ],
      "text/markdown": [
       "1. 0.0925141671916087\n",
       "2. -1.73206795484552\n",
       "3. 1.8831026616193\n",
       "4. 0.721711664623227\n",
       "5. -0.588932107071642\n",
       "6. 0.647252971547067\n",
       "\n",
       "\n"
      ],
      "text/plain": [
       "[1]  0.09251417 -1.73206795  1.88310266  0.72171166 -0.58893211  0.64725297"
      ]
     },
     "metadata": {},
     "output_type": "display_data"
    }
   ],
   "source": [
    "apply(X, 1, sum)"
   ]
  },
  {
   "cell_type": "code",
   "execution_count": 33,
   "metadata": {},
   "outputs": [
    {
     "data": {
      "text/html": [
       "<ol class=list-inline>\n",
       "\t<li>2.68291629158243</li>\n",
       "\t<li>-0.35276422611399</li>\n",
       "\t<li>0.273759490187776</li>\n",
       "\t<li>-2.81212980440777</li>\n",
       "\t<li>-1.20489443220265</li>\n",
       "\t<li>3.41487322280019</li>\n",
       "\t<li>-1.09705197873154</li>\n",
       "\t<li>0.118872839949595</li>\n",
       "</ol>\n"
      ],
      "text/latex": [
       "\\begin{enumerate*}\n",
       "\\item 2.68291629158243\n",
       "\\item -0.35276422611399\n",
       "\\item 0.273759490187776\n",
       "\\item -2.81212980440777\n",
       "\\item -1.20489443220265\n",
       "\\item 3.41487322280019\n",
       "\\item -1.09705197873154\n",
       "\\item 0.118872839949595\n",
       "\\end{enumerate*}\n"
      ],
      "text/markdown": [
       "1. 2.68291629158243\n",
       "2. -0.35276422611399\n",
       "3. 0.273759490187776\n",
       "4. -2.81212980440777\n",
       "5. -1.20489443220265\n",
       "6. 3.41487322280019\n",
       "7. -1.09705197873154\n",
       "8. 0.118872839949595\n",
       "\n",
       "\n"
      ],
      "text/plain": [
       "[1]  2.6829163 -0.3527642  0.2737595 -2.8121298 -1.2048944  3.4148732 -1.0970520\n",
       "[8]  0.1188728"
      ]
     },
     "metadata": {},
     "output_type": "display_data"
    }
   ],
   "source": [
    "apply(X, 2, sum)"
   ]
  },
  {
   "cell_type": "code",
   "execution_count": 38,
   "metadata": {},
   "outputs": [
    {
     "data": {
      "text/html": [
       "<ol>\n",
       "\t<li>9</li>\n",
       "\t<li>12</li>\n",
       "\t<li>16</li>\n",
       "</ol>\n"
      ],
      "text/latex": [
       "\\begin{enumerate}\n",
       "\\item 9\n",
       "\\item 12\n",
       "\\item 16\n",
       "\\end{enumerate}\n"
      ],
      "text/markdown": [
       "1. 9\n",
       "2. 12\n",
       "3. 16\n",
       "\n",
       "\n"
      ],
      "text/plain": [
       "[[1]]\n",
       "[1] 9\n",
       "\n",
       "[[2]]\n",
       "[1] 12\n",
       "\n",
       "[[3]]\n",
       "[1] 16\n"
      ]
     },
     "metadata": {},
     "output_type": "display_data"
    }
   ],
   "source": [
    "lapply(matrices, length)"
   ]
  },
  {
   "cell_type": "code",
   "execution_count": 50,
   "metadata": {},
   "outputs": [
    {
     "data": {
      "text/html": [
       "<ol>\n",
       "\t<li>0.444444444444444</li>\n",
       "\t<li>0.583333333333333</li>\n",
       "\t<li>0.5</li>\n",
       "</ol>\n"
      ],
      "text/latex": [
       "\\begin{enumerate}\n",
       "\\item 0.444444444444444\n",
       "\\item 0.583333333333333\n",
       "\\item 0.5\n",
       "\\end{enumerate}\n"
      ],
      "text/markdown": [
       "1. 0.444444444444444\n",
       "2. 0.583333333333333\n",
       "3. 0.5\n",
       "\n",
       "\n"
      ],
      "text/plain": [
       "[[1]]\n",
       "[1] 0.4444444\n",
       "\n",
       "[[2]]\n",
       "[1] 0.5833333\n",
       "\n",
       "[[3]]\n",
       "[1] 0.5\n"
      ]
     },
     "metadata": {},
     "output_type": "display_data"
    }
   ],
   "source": [
    "lapply(matrices, function(m) { sum(m)/length(m) })"
   ]
  },
  {
   "cell_type": "code",
   "execution_count": 53,
   "metadata": {},
   "outputs": [
    {
     "data": {
      "text/html": [
       "<ol class=list-inline>\n",
       "\t<li>9</li>\n",
       "\t<li>12</li>\n",
       "\t<li>16</li>\n",
       "</ol>\n"
      ],
      "text/latex": [
       "\\begin{enumerate*}\n",
       "\\item 9\n",
       "\\item 12\n",
       "\\item 16\n",
       "\\end{enumerate*}\n"
      ],
      "text/markdown": [
       "1. 9\n",
       "2. 12\n",
       "3. 16\n",
       "\n",
       "\n"
      ],
      "text/plain": [
       "[1]  9 12 16"
      ]
     },
     "metadata": {},
     "output_type": "display_data"
    }
   ],
   "source": [
    "sapply(matrices, length)"
   ]
  },
  {
   "cell_type": "code",
   "execution_count": 63,
   "metadata": {},
   "outputs": [
    {
     "data": {
      "text/html": [
       "<ol class=list-inline>\n",
       "\t<li>'y'</li>\n",
       "\t<li>'same'</li>\n",
       "\t<li>'same'</li>\n",
       "\t<li>'y'</li>\n",
       "\t<li>'y'</li>\n",
       "\t<li>'x'</li>\n",
       "\t<li>'same'</li>\n",
       "\t<li>'x'</li>\n",
       "\t<li>'x'</li>\n",
       "\t<li>'y'</li>\n",
       "\t<li>'x'</li>\n",
       "</ol>\n"
      ],
      "text/latex": [
       "\\begin{enumerate*}\n",
       "\\item 'y'\n",
       "\\item 'same'\n",
       "\\item 'same'\n",
       "\\item 'y'\n",
       "\\item 'y'\n",
       "\\item 'x'\n",
       "\\item 'same'\n",
       "\\item 'x'\n",
       "\\item 'x'\n",
       "\\item 'y'\n",
       "\\item 'x'\n",
       "\\end{enumerate*}\n"
      ],
      "text/markdown": [
       "1. 'y'\n",
       "2. 'same'\n",
       "3. 'same'\n",
       "4. 'y'\n",
       "5. 'y'\n",
       "6. 'x'\n",
       "7. 'same'\n",
       "8. 'x'\n",
       "9. 'x'\n",
       "10. 'y'\n",
       "11. 'x'\n",
       "\n",
       "\n"
      ],
      "text/plain": [
       " [1] \"y\"    \"same\" \"same\" \"y\"    \"y\"    \"x\"    \"same\" \"x\"    \"x\"    \"y\"   \n",
       "[11] \"x\"   "
      ]
     },
     "metadata": {},
     "output_type": "display_data"
    }
   ],
   "source": [
    "x <- c(4,5,7,6,7,2,3,1,0,4,5)\n",
    "y <- c(3,5,7,3,2,3,3,5,6,2,7)\n",
    "mapply(function(a, b) {\n",
    "    if (a == b) { \"same\" }\n",
    "    else if (a < b) { \"x\" }\n",
    "    else \"y\"\n",
    "}, x, y)"
   ]
  },
  {
   "cell_type": "code",
   "execution_count": 66,
   "metadata": {},
   "outputs": [
    {
     "data": {
      "text/html": [
       "<ol>\n",
       "\t<li><table>\n",
       "<tbody>\n",
       "\t<tr><td>1</td></tr>\n",
       "</tbody>\n",
       "</table>\n",
       "</li>\n",
       "\t<li><table>\n",
       "<tbody>\n",
       "\t<tr><td>2</td><td>2</td></tr>\n",
       "\t<tr><td>2</td><td>2</td></tr>\n",
       "</tbody>\n",
       "</table>\n",
       "</li>\n",
       "\t<li><table>\n",
       "<tbody>\n",
       "\t<tr><td>3</td><td>3</td><td>3</td></tr>\n",
       "\t<tr><td>3</td><td>3</td><td>3</td></tr>\n",
       "\t<tr><td>3</td><td>3</td><td>3</td></tr>\n",
       "</tbody>\n",
       "</table>\n",
       "</li>\n",
       "\t<li><table>\n",
       "<tbody>\n",
       "\t<tr><td>4</td><td>4</td><td>4</td><td>4</td></tr>\n",
       "\t<tr><td>4</td><td>4</td><td>4</td><td>4</td></tr>\n",
       "\t<tr><td>4</td><td>4</td><td>4</td><td>4</td></tr>\n",
       "\t<tr><td>4</td><td>4</td><td>4</td><td>4</td></tr>\n",
       "</tbody>\n",
       "</table>\n",
       "</li>\n",
       "\t<li><table>\n",
       "<tbody>\n",
       "\t<tr><td>5</td><td>5</td><td>5</td><td>5</td><td>5</td></tr>\n",
       "\t<tr><td>5</td><td>5</td><td>5</td><td>5</td><td>5</td></tr>\n",
       "\t<tr><td>5</td><td>5</td><td>5</td><td>5</td><td>5</td></tr>\n",
       "\t<tr><td>5</td><td>5</td><td>5</td><td>5</td><td>5</td></tr>\n",
       "\t<tr><td>5</td><td>5</td><td>5</td><td>5</td><td>5</td></tr>\n",
       "</tbody>\n",
       "</table>\n",
       "</li>\n",
       "</ol>\n"
      ],
      "text/latex": [
       "\\begin{enumerate}\n",
       "\\item \\begin{tabular}{l}\n",
       "\t 1\\\\\n",
       "\\end{tabular}\n",
       "\n",
       "\\item \\begin{tabular}{ll}\n",
       "\t 2 & 2\\\\\n",
       "\t 2 & 2\\\\\n",
       "\\end{tabular}\n",
       "\n",
       "\\item \\begin{tabular}{lll}\n",
       "\t 3 & 3 & 3\\\\\n",
       "\t 3 & 3 & 3\\\\\n",
       "\t 3 & 3 & 3\\\\\n",
       "\\end{tabular}\n",
       "\n",
       "\\item \\begin{tabular}{llll}\n",
       "\t 4 & 4 & 4 & 4\\\\\n",
       "\t 4 & 4 & 4 & 4\\\\\n",
       "\t 4 & 4 & 4 & 4\\\\\n",
       "\t 4 & 4 & 4 & 4\\\\\n",
       "\\end{tabular}\n",
       "\n",
       "\\item \\begin{tabular}{lllll}\n",
       "\t 5 & 5 & 5 & 5 & 5\\\\\n",
       "\t 5 & 5 & 5 & 5 & 5\\\\\n",
       "\t 5 & 5 & 5 & 5 & 5\\\\\n",
       "\t 5 & 5 & 5 & 5 & 5\\\\\n",
       "\t 5 & 5 & 5 & 5 & 5\\\\\n",
       "\\end{tabular}\n",
       "\n",
       "\\end{enumerate}\n"
      ],
      "text/markdown": [
       "1. \n",
       "| 1 | \n",
       "\n",
       "\n",
       "\n",
       "2. \n",
       "| 2 | 2 | \n",
       "| 2 | 2 | \n",
       "\n",
       "\n",
       "\n",
       "3. \n",
       "| 3 | 3 | 3 | \n",
       "| 3 | 3 | 3 | \n",
       "| 3 | 3 | 3 | \n",
       "\n",
       "\n",
       "\n",
       "4. \n",
       "| 4 | 4 | 4 | 4 | \n",
       "| 4 | 4 | 4 | 4 | \n",
       "| 4 | 4 | 4 | 4 | \n",
       "| 4 | 4 | 4 | 4 | \n",
       "\n",
       "\n",
       "\n",
       "5. \n",
       "| 5 | 5 | 5 | 5 | 5 | \n",
       "| 5 | 5 | 5 | 5 | 5 | \n",
       "| 5 | 5 | 5 | 5 | 5 | \n",
       "| 5 | 5 | 5 | 5 | 5 | \n",
       "| 5 | 5 | 5 | 5 | 5 | \n",
       "\n",
       "\n",
       "\n",
       "\n",
       "\n"
      ],
      "text/plain": [
       "[[1]]\n",
       "     [,1]\n",
       "[1,]    1\n",
       "\n",
       "[[2]]\n",
       "     [,1] [,2]\n",
       "[1,]    2    2\n",
       "[2,]    2    2\n",
       "\n",
       "[[3]]\n",
       "     [,1] [,2] [,3]\n",
       "[1,]    3    3    3\n",
       "[2,]    3    3    3\n",
       "[3,]    3    3    3\n",
       "\n",
       "[[4]]\n",
       "     [,1] [,2] [,3] [,4]\n",
       "[1,]    4    4    4    4\n",
       "[2,]    4    4    4    4\n",
       "[3,]    4    4    4    4\n",
       "[4,]    4    4    4    4\n",
       "\n",
       "[[5]]\n",
       "     [,1] [,2] [,3] [,4] [,5]\n",
       "[1,]    5    5    5    5    5\n",
       "[2,]    5    5    5    5    5\n",
       "[3,]    5    5    5    5    5\n",
       "[4,]    5    5    5    5    5\n",
       "[5,]    5    5    5    5    5\n"
      ]
     },
     "metadata": {},
     "output_type": "display_data"
    }
   ],
   "source": [
    "sapply(1:5, function(x) matrix(x, x, x))"
   ]
  },
  {
   "cell_type": "code",
   "execution_count": 70,
   "metadata": {},
   "outputs": [
    {
     "data": {
      "text/plain": [
       "     Plant             Type         Treatment       conc          uptake     \n",
       " Qn1    : 7   Quebec     :42   nonchilled:42   Min.   :  95   Min.   : 7.70  \n",
       " Qn2    : 7   Mississippi:42   chilled   :42   1st Qu.: 175   1st Qu.:17.90  \n",
       " Qn3    : 7                                    Median : 350   Median :28.30  \n",
       " Qc1    : 7                                    Mean   : 435   Mean   :27.21  \n",
       " Qc3    : 7                                    3rd Qu.: 675   3rd Qu.:37.12  \n",
       " Qc2    : 7                                    Max.   :1000   Max.   :45.50  \n",
       " (Other):42                                                                  "
      ]
     },
     "metadata": {},
     "output_type": "display_data"
    },
    {
     "name": "stdout",
     "output_type": "stream",
     "text": [
      "Call:\n",
      "rpart(formula = uptake ~ ., data = CO2)\n",
      "  n= 84 \n",
      "\n",
      "          CP nsplit rel error    xerror       xstd\n",
      "1 0.37575110      0 1.0000000 1.0276163 0.09328103\n",
      "2 0.07791511      2 0.2484978 0.3378439 0.04646254\n",
      "3 0.01458060      3 0.1705827 0.2112928 0.02941371\n",
      "4 0.01000000      4 0.1560021 0.2143458 0.02945445\n",
      "\n",
      "Variable importance\n",
      "Plant  conc \n",
      "   55    45 \n",
      "\n",
      "Node number 1: 84 observations,    complexity param=0.3757511\n",
      "  mean=27.2131, MSE=115.5592 \n",
      "  left son=2 (21 obs) right son=3 (63 obs)\n",
      "  Primary splits:\n",
      "      Plant     splits as  RRRRRRRRRLLL, improve=0.3747944, (0 missing)\n",
      "      Type      splits as  RL,           improve=0.3467130, (0 missing)\n",
      "      conc      < 212.5 to the left,     improve=0.3421572, (0 missing)\n",
      "      Treatment splits as  RL,           improve=0.1017943, (0 missing)\n",
      "\n",
      "Node number 2: 21 observations,    complexity param=0.0145806\n",
      "  mean=15.81429, MSE=15.69075 \n",
      "  left son=4 (7 obs) right son=5 (14 obs)\n",
      "  Primary splits:\n",
      "      Plant splits as  LLLLLLLLLLRR, improve=0.429533, (0 missing)\n",
      "      conc  < 300   to the left,     improve=0.258471, (0 missing)\n",
      "\n",
      "Node number 3: 63 observations,    complexity param=0.3757511\n",
      "  mean=31.0127, MSE=91.10079 \n",
      "  left son=6 (18 obs) right son=7 (45 obs)\n",
      "  Primary splits:\n",
      "      conc      < 212.5 to the left,     improve=0.637126800, (0 missing)\n",
      "      Plant     splits as  RRRRRRLLLLLL, improve=0.140541100, (0 missing)\n",
      "      Type      splits as  RL,           improve=0.140541100, (0 missing)\n",
      "      Treatment splits as  LR,           improve=0.003002884, (0 missing)\n",
      "\n",
      "Node number 4: 7 observations\n",
      "  mean=12.14286, MSE=4.099592 \n",
      "\n",
      "Node number 5: 14 observations\n",
      "  mean=17.65, MSE=11.37679 \n",
      "\n",
      "Node number 6: 18 observations\n",
      "  mean=18.96667, MSE=46.87111 \n",
      "\n",
      "Node number 7: 45 observations,    complexity param=0.07791511\n",
      "  mean=35.83111, MSE=27.53281 \n",
      "  left son=14 (15 obs) right son=15 (30 obs)\n",
      "  Primary splits:\n",
      "      Plant     splits as  RRRRRRLLLLLL, improve=0.61043950, (0 missing)\n",
      "      Type      splits as  RL,           improve=0.61043950, (0 missing)\n",
      "      conc      < 587.5 to the left,     improve=0.06924724, (0 missing)\n",
      "      Treatment splits as  LR,           improve=0.02712813, (0 missing)\n",
      "\n",
      "Node number 14: 15 observations\n",
      "  mean=30.03333, MSE=6.454222 \n",
      "\n",
      "Node number 15: 30 observations\n",
      "  mean=38.73, MSE=12.86143 \n",
      "\n"
     ]
    }
   ],
   "source": [
    "library(\"rpart\")\n",
    "library(\"rpart.plot\")\n",
    "\n",
    "data(CO2)\n",
    "\n",
    "summary(CO2)\n",
    "\n",
    "\n",
    "fit <- rpart(uptake~., data=CO2)\n",
    "summary(fit)"
   ]
  },
  {
   "cell_type": "code",
   "execution_count": 73,
   "metadata": {},
   "outputs": [
    {
     "data": {
      "text/html": [
       "18.0274818594104"
      ],
      "text/latex": [
       "18.0274818594104"
      ],
      "text/markdown": [
       "18.0274818594104"
      ],
      "text/plain": [
       "[1] 18.02748"
      ]
     },
     "metadata": {},
     "output_type": "display_data"
    }
   ],
   "source": [
    "p <- predict(fit)\n",
    "a <- CO2$uptake\n",
    "sum(((p -a)^2) / length(p))"
   ]
  },
  {
   "cell_type": "code",
   "execution_count": 76,
   "metadata": {},
   "outputs": [
    {
     "data": {
      "text/html": [
       "<table>\n",
       "<thead><tr><th scope=col>crim</th><th scope=col>zn</th><th scope=col>indus</th><th scope=col>chas</th><th scope=col>nox</th><th scope=col>rm</th><th scope=col>age</th><th scope=col>dis</th><th scope=col>rad</th><th scope=col>tax</th><th scope=col>ptratio</th><th scope=col>black</th><th scope=col>lstat</th><th scope=col>medv</th></tr></thead>\n",
       "<tbody>\n",
       "\t<tr><td>0.00632</td><td>18     </td><td>2.31   </td><td>0      </td><td>0.538  </td><td>6.575  </td><td>65.2   </td><td>4.0900 </td><td>1      </td><td>296    </td><td>15.3   </td><td>396.90 </td><td>4.98   </td><td>24.0   </td></tr>\n",
       "\t<tr><td>0.02731</td><td> 0     </td><td>7.07   </td><td>0      </td><td>0.469  </td><td>6.421  </td><td>78.9   </td><td>4.9671 </td><td>2      </td><td>242    </td><td>17.8   </td><td>396.90 </td><td>9.14   </td><td>21.6   </td></tr>\n",
       "\t<tr><td>0.02729</td><td> 0     </td><td>7.07   </td><td>0      </td><td>0.469  </td><td>7.185  </td><td>61.1   </td><td>4.9671 </td><td>2      </td><td>242    </td><td>17.8   </td><td>392.83 </td><td>4.03   </td><td>34.7   </td></tr>\n",
       "\t<tr><td>0.03237</td><td> 0     </td><td>2.18   </td><td>0      </td><td>0.458  </td><td>6.998  </td><td>45.8   </td><td>6.0622 </td><td>3      </td><td>222    </td><td>18.7   </td><td>394.63 </td><td>2.94   </td><td>33.4   </td></tr>\n",
       "\t<tr><td>0.06905</td><td> 0     </td><td>2.18   </td><td>0      </td><td>0.458  </td><td>7.147  </td><td>54.2   </td><td>6.0622 </td><td>3      </td><td>222    </td><td>18.7   </td><td>396.90 </td><td>5.33   </td><td>36.2   </td></tr>\n",
       "\t<tr><td>0.02985</td><td> 0     </td><td>2.18   </td><td>0      </td><td>0.458  </td><td>6.430  </td><td>58.7   </td><td>6.0622 </td><td>3      </td><td>222    </td><td>18.7   </td><td>394.12 </td><td>5.21   </td><td>28.7   </td></tr>\n",
       "</tbody>\n",
       "</table>\n"
      ],
      "text/latex": [
       "\\begin{tabular}{r|llllllllllllll}\n",
       " crim & zn & indus & chas & nox & rm & age & dis & rad & tax & ptratio & black & lstat & medv\\\\\n",
       "\\hline\n",
       "\t 0.00632 & 18      & 2.31    & 0       & 0.538   & 6.575   & 65.2    & 4.0900  & 1       & 296     & 15.3    & 396.90  & 4.98    & 24.0   \\\\\n",
       "\t 0.02731 &  0      & 7.07    & 0       & 0.469   & 6.421   & 78.9    & 4.9671  & 2       & 242     & 17.8    & 396.90  & 9.14    & 21.6   \\\\\n",
       "\t 0.02729 &  0      & 7.07    & 0       & 0.469   & 7.185   & 61.1    & 4.9671  & 2       & 242     & 17.8    & 392.83  & 4.03    & 34.7   \\\\\n",
       "\t 0.03237 &  0      & 2.18    & 0       & 0.458   & 6.998   & 45.8    & 6.0622  & 3       & 222     & 18.7    & 394.63  & 2.94    & 33.4   \\\\\n",
       "\t 0.06905 &  0      & 2.18    & 0       & 0.458   & 7.147   & 54.2    & 6.0622  & 3       & 222     & 18.7    & 396.90  & 5.33    & 36.2   \\\\\n",
       "\t 0.02985 &  0      & 2.18    & 0       & 0.458   & 6.430   & 58.7    & 6.0622  & 3       & 222     & 18.7    & 394.12  & 5.21    & 28.7   \\\\\n",
       "\\end{tabular}\n"
      ],
      "text/markdown": [
       "\n",
       "crim | zn | indus | chas | nox | rm | age | dis | rad | tax | ptratio | black | lstat | medv | \n",
       "|---|---|---|---|---|---|\n",
       "| 0.00632 | 18      | 2.31    | 0       | 0.538   | 6.575   | 65.2    | 4.0900  | 1       | 296     | 15.3    | 396.90  | 4.98    | 24.0    | \n",
       "| 0.02731 |  0      | 7.07    | 0       | 0.469   | 6.421   | 78.9    | 4.9671  | 2       | 242     | 17.8    | 396.90  | 9.14    | 21.6    | \n",
       "| 0.02729 |  0      | 7.07    | 0       | 0.469   | 7.185   | 61.1    | 4.9671  | 2       | 242     | 17.8    | 392.83  | 4.03    | 34.7    | \n",
       "| 0.03237 |  0      | 2.18    | 0       | 0.458   | 6.998   | 45.8    | 6.0622  | 3       | 222     | 18.7    | 394.63  | 2.94    | 33.4    | \n",
       "| 0.06905 |  0      | 2.18    | 0       | 0.458   | 7.147   | 54.2    | 6.0622  | 3       | 222     | 18.7    | 396.90  | 5.33    | 36.2    | \n",
       "| 0.02985 |  0      | 2.18    | 0       | 0.458   | 6.430   | 58.7    | 6.0622  | 3       | 222     | 18.7    | 394.12  | 5.21    | 28.7    | \n",
       "\n",
       "\n"
      ],
      "text/plain": [
       "  crim    zn indus chas nox   rm    age  dis    rad tax ptratio black  lstat\n",
       "1 0.00632 18 2.31  0    0.538 6.575 65.2 4.0900 1   296 15.3    396.90 4.98 \n",
       "2 0.02731  0 7.07  0    0.469 6.421 78.9 4.9671 2   242 17.8    396.90 9.14 \n",
       "3 0.02729  0 7.07  0    0.469 7.185 61.1 4.9671 2   242 17.8    392.83 4.03 \n",
       "4 0.03237  0 2.18  0    0.458 6.998 45.8 6.0622 3   222 18.7    394.63 2.94 \n",
       "5 0.06905  0 2.18  0    0.458 7.147 54.2 6.0622 3   222 18.7    396.90 5.33 \n",
       "6 0.02985  0 2.18  0    0.458 6.430 58.7 6.0622 3   222 18.7    394.12 5.21 \n",
       "  medv\n",
       "1 24.0\n",
       "2 21.6\n",
       "3 34.7\n",
       "4 33.4\n",
       "5 36.2\n",
       "6 28.7"
      ]
     },
     "metadata": {},
     "output_type": "display_data"
    }
   ],
   "source": [
    "library(\"MASS\")\n",
    "data(Boston)\n",
    "head(Boston)"
   ]
  },
  {
   "cell_type": "code",
   "execution_count": 86,
   "metadata": {},
   "outputs": [
    {
     "data": {
      "text/html": [
       "<ol class=list-inline>\n",
       "\t<li>354</li>\n",
       "\t<li>14</li>\n",
       "</ol>\n"
      ],
      "text/latex": [
       "\\begin{enumerate*}\n",
       "\\item 354\n",
       "\\item 14\n",
       "\\end{enumerate*}\n"
      ],
      "text/markdown": [
       "1. 354\n",
       "2. 14\n",
       "\n",
       "\n"
      ],
      "text/plain": [
       "[1] 354  14"
      ]
     },
     "metadata": {},
     "output_type": "display_data"
    },
    {
     "data": {
      "text/html": [
       "<ol class=list-inline>\n",
       "\t<li>152</li>\n",
       "\t<li>14</li>\n",
       "</ol>\n"
      ],
      "text/latex": [
       "\\begin{enumerate*}\n",
       "\\item 152\n",
       "\\item 14\n",
       "\\end{enumerate*}\n"
      ],
      "text/markdown": [
       "1. 152\n",
       "2. 14\n",
       "\n",
       "\n"
      ],
      "text/plain": [
       "[1] 152  14"
      ]
     },
     "metadata": {},
     "output_type": "display_data"
    }
   ],
   "source": [
    "set.seed(123)\n",
    "\n",
    "indicies <- sample(1:nrow(Boston), as.integer(nrow(Boston) * 0.7))\n",
    "\n",
    "data_train <- Boston[indicies, ]\n",
    "data_test <- Boston[-indicies, ]\n",
    "\n",
    "dim(data_train)\n",
    "dim(data_test)"
   ]
  },
  {
   "cell_type": "code",
   "execution_count": 89,
   "metadata": {},
   "outputs": [
    {
     "name": "stdout",
     "output_type": "stream",
     "text": [
      "Call:\n",
      "rpart(formula = medv ~ ., data = data_train)\n",
      "  n= 354 \n",
      "\n",
      "          CP nsplit rel error    xerror       xstd\n",
      "1 0.45644110      0 1.0000000 1.0037049 0.09983721\n",
      "2 0.17738294      1 0.5435589 0.6350973 0.06802140\n",
      "3 0.05945468      2 0.3661760 0.4220757 0.05617564\n",
      "4 0.03652352      3 0.3067213 0.4128910 0.05615162\n",
      "5 0.03463786      4 0.2701978 0.3650889 0.05456334\n",
      "6 0.02564785      5 0.2355599 0.3570468 0.05667850\n",
      "7 0.01495376      6 0.2099120 0.3048580 0.04581295\n",
      "8 0.01000000      7 0.1949583 0.2975023 0.04522097\n",
      "\n",
      "Variable importance\n",
      "     rm   lstat     dis   indus     age     nox     tax ptratio    crim      zn \n",
      "     33      21       8       7       6       6       5       5       4       3 \n",
      "    rad   black    chas \n",
      "      1       1       1 \n",
      "\n",
      "Node number 1: 354 observations,    complexity param=0.4564411\n",
      "  mean=22.75085, MSE=84.7377 \n",
      "  left son=2 (302 obs) right son=3 (52 obs)\n",
      "  Primary splits:\n",
      "      rm      < 6.941    to the left,  improve=0.4564411, (0 missing)\n",
      "      lstat   < 9.63     to the right, improve=0.4381844, (0 missing)\n",
      "      indus   < 6.66     to the right, improve=0.2378445, (0 missing)\n",
      "      ptratio < 19.65    to the right, improve=0.2314217, (0 missing)\n",
      "      nox     < 0.6695   to the right, improve=0.2082943, (0 missing)\n",
      "  Surrogate splits:\n",
      "      lstat   < 4.6      to the right, agree=0.893, adj=0.269, (0 split)\n",
      "      ptratio < 14.15    to the right, agree=0.876, adj=0.154, (0 split)\n",
      "      zn      < 87.5     to the left,  agree=0.867, adj=0.096, (0 split)\n",
      "      indus   < 1.605    to the right, agree=0.862, adj=0.058, (0 split)\n",
      "      crim    < 0.013355 to the right, agree=0.856, adj=0.019, (0 split)\n",
      "\n",
      "Node number 2: 302 observations,    complexity param=0.1773829\n",
      "  mean=20.1702, MSE=40.02309 \n",
      "  left son=4 (114 obs) right son=5 (188 obs)\n",
      "  Primary splits:\n",
      "      lstat   < 14.4     to the right, improve=0.4402245, (0 missing)\n",
      "      nox     < 0.6695   to the right, improve=0.2555596, (0 missing)\n",
      "      crim    < 9.280695 to the right, improve=0.2340750, (0 missing)\n",
      "      age     < 91.1     to the right, improve=0.2090048, (0 missing)\n",
      "      ptratio < 19.9     to the right, improve=0.1993836, (0 missing)\n",
      "  Surrogate splits:\n",
      "      age   < 88.2     to the right, agree=0.831, adj=0.553, (0 split)\n",
      "      nox   < 0.607    to the right, agree=0.795, adj=0.456, (0 split)\n",
      "      dis   < 2.47805  to the left,  agree=0.791, adj=0.447, (0 split)\n",
      "      indus < 16.57    to the right, agree=0.785, adj=0.430, (0 split)\n",
      "      tax   < 434.5    to the right, agree=0.781, adj=0.421, (0 split)\n",
      "\n",
      "Node number 3: 52 observations,    complexity param=0.05945468\n",
      "  mean=37.73846, MSE=81.12006 \n",
      "  left son=6 (30 obs) right son=7 (22 obs)\n",
      "  Primary splits:\n",
      "      rm      < 7.445    to the left,  improve=0.4227994, (0 missing)\n",
      "      lstat   < 4.72     to the right, improve=0.4153768, (0 missing)\n",
      "      ptratio < 18.15    to the right, improve=0.1618990, (0 missing)\n",
      "      black   < 392.79   to the right, improve=0.1521196, (0 missing)\n",
      "      nox     < 0.639    to the right, improve=0.1372712, (0 missing)\n",
      "  Surrogate splits:\n",
      "      lstat < 4.33     to the right, agree=0.788, adj=0.500, (0 split)\n",
      "      crim  < 0.110415 to the left,  agree=0.712, adj=0.318, (0 split)\n",
      "      black < 390.365  to the right, agree=0.692, adj=0.273, (0 split)\n",
      "      indus < 4.915    to the left,  agree=0.673, adj=0.227, (0 split)\n",
      "      chas  < 0.5      to the left,  agree=0.673, adj=0.227, (0 split)\n",
      "\n",
      "Node number 4: 114 observations,    complexity param=0.02564785\n",
      "  mean=14.77982, MSE=17.16038 \n",
      "  left son=8 (49 obs) right son=9 (65 obs)\n",
      "  Primary splits:\n",
      "      crim  < 7.08414  to the right, improve=0.3932775, (0 missing)\n",
      "      dis   < 1.99635  to the left,  improve=0.3467890, (0 missing)\n",
      "      lstat < 19.605   to the right, improve=0.3124843, (0 missing)\n",
      "      nox   < 0.657    to the right, improve=0.2993476, (0 missing)\n",
      "      tax   < 567.5    to the right, improve=0.2612223, (0 missing)\n",
      "  Surrogate splits:\n",
      "      rad     < 16       to the right, agree=0.877, adj=0.714, (0 split)\n",
      "      tax     < 567.5    to the right, agree=0.851, adj=0.653, (0 split)\n",
      "      nox     < 0.657    to the right, agree=0.754, adj=0.429, (0 split)\n",
      "      dis     < 2.28345  to the left,  agree=0.719, adj=0.347, (0 split)\n",
      "      ptratio < 20.15    to the right, agree=0.711, adj=0.327, (0 split)\n",
      "\n",
      "Node number 5: 188 observations,    complexity param=0.03652352\n",
      "  mean=23.43883, MSE=25.58355 \n",
      "  left son=10 (181 obs) right son=11 (7 obs)\n",
      "  Primary splits:\n",
      "      dis   < 1.68515  to the right, improve=0.22778970, (0 missing)\n",
      "      lstat < 9.545    to the right, improve=0.20771370, (0 missing)\n",
      "      rm    < 6.543    to the left,  improve=0.17173700, (0 missing)\n",
      "      crim  < 7.24712  to the left,  improve=0.07876444, (0 missing)\n",
      "      age   < 98.85    to the left,  improve=0.07415738, (0 missing)\n",
      "  Surrogate splits:\n",
      "      crim < 8.053285 to the left,  agree=0.973, adj=0.286, (0 split)\n",
      "      rm   < 4.413    to the right, agree=0.973, adj=0.286, (0 split)\n",
      "      age  < 98.85    to the left,  agree=0.968, adj=0.143, (0 split)\n",
      "\n",
      "Node number 6: 30 observations,    complexity param=0.01495376\n",
      "  mean=32.72333, MSE=47.57846 \n",
      "  left son=12 (16 obs) right son=13 (14 obs)\n",
      "  Primary splits:\n",
      "      lstat   < 5.44     to the right, improve=0.31426690, (0 missing)\n",
      "      black   < 395.995  to the right, improve=0.13391240, (0 missing)\n",
      "      nox     < 0.4885   to the right, improve=0.10841980, (0 missing)\n",
      "      ptratio < 18.5     to the right, improve=0.07748849, (0 missing)\n",
      "      age     < 61.3     to the right, improve=0.07109661, (0 missing)\n",
      "  Surrogate splits:\n",
      "      age < 58.95    to the right, agree=0.767, adj=0.500, (0 split)\n",
      "      nox < 0.465    to the right, agree=0.733, adj=0.429, (0 split)\n",
      "      dis < 4.29435  to the left,  agree=0.733, adj=0.429, (0 split)\n",
      "      zn  < 33.5     to the left,  agree=0.667, adj=0.286, (0 split)\n",
      "      rm  < 7.0025   to the right, agree=0.667, adj=0.286, (0 split)\n",
      "\n",
      "Node number 7: 22 observations\n",
      "  mean=44.57727, MSE=45.79176 \n",
      "\n",
      "Node number 8: 49 observations\n",
      "  mean=11.78776, MSE=11.48516 \n",
      "\n",
      "Node number 9: 65 observations\n",
      "  mean=17.03538, MSE=9.602286 \n",
      "\n",
      "Node number 10: 181 observations,    complexity param=0.03463786\n",
      "  mean=22.96409, MSE=14.4318 \n",
      "  left son=20 (142 obs) right son=21 (39 obs)\n",
      "  Primary splits:\n",
      "      rm      < 6.543    to the left,  improve=0.3977698, (0 missing)\n",
      "      lstat   < 7.735    to the right, improve=0.3191207, (0 missing)\n",
      "      nox     < 0.5125   to the right, improve=0.2109380, (0 missing)\n",
      "      indus   < 5.04     to the right, improve=0.1485396, (0 missing)\n",
      "      ptratio < 19.9     to the right, improve=0.1257411, (0 missing)\n",
      "  Surrogate splits:\n",
      "      lstat < 5.055    to the right, agree=0.840, adj=0.256, (0 split)\n",
      "      zn    < 31.5     to the left,  agree=0.812, adj=0.128, (0 split)\n",
      "      crim  < 0.016855 to the right, agree=0.801, adj=0.077, (0 split)\n",
      "      indus < 1.505    to the right, agree=0.790, adj=0.026, (0 split)\n",
      "\n",
      "Node number 11: 7 observations\n",
      "  mean=35.71429, MSE=157.4212 \n",
      "\n",
      "Node number 12: 16 observations\n",
      "  mean=29.10625, MSE=45.67559 \n",
      "\n",
      "Node number 13: 14 observations\n",
      "  mean=36.85714, MSE=17.71245 \n",
      "\n",
      "Node number 20: 142 observations\n",
      "  mean=21.70845, MSE=7.940633 \n",
      "\n",
      "Node number 21: 39 observations\n",
      "  mean=27.5359, MSE=11.42435 \n",
      "\n"
     ]
    },
    {
     "data": {
      "text/html": [
       "16.5203156488616"
      ],
      "text/latex": [
       "16.5203156488616"
      ],
      "text/markdown": [
       "16.5203156488616"
      ],
      "text/plain": [
       "[1] 16.52032"
      ]
     },
     "metadata": {},
     "output_type": "display_data"
    },
    {
     "data": {
      "text/html": [
       "23.5625601212663"
      ],
      "text/latex": [
       "23.5625601212663"
      ],
      "text/markdown": [
       "23.5625601212663"
      ],
      "text/plain": [
       "[1] 23.56256"
      ]
     },
     "metadata": {},
     "output_type": "display_data"
    }
   ],
   "source": [
    "fit <- rpart(medv~., data=data_train)\n",
    "summary(fit)\n",
    "\n",
    "p_train <- predict(fit, newdata = data_train)\n",
    "p_test <- predict(fit, newdata = data_test)\n",
    "a_train <- data_train$medv\n",
    "a_test <- data_test$medv\n",
    "\n",
    "mse <- function(p, a) {\n",
    "    sum((p - a)^2) / length(p)\n",
    "}\n",
    "\n",
    "mse_train <- mse(p_train, a_train)\n",
    "mse_test <- mse(p_test, a_test)\n",
    "\n",
    "mse_train\n",
    "mse_test"
   ]
  },
  {
   "cell_type": "code",
   "execution_count": 93,
   "metadata": {},
   "outputs": [
    {
     "data": {
      "image/png": "[encoded data removed]",
      "text/plain": [
       "plot without title"
      ]
     },
     "metadata": {},
     "output_type": "display_data",
     "source": "R display func"
    }
   ],
   "source": [
    "rpart.plot(fit)"
   ]
  },
  {
   "cell_type": "code",
   "execution_count": 99,
   "metadata": {},
   "outputs": [
    {
     "data": {
      "text/html": [
       "4.06451911655753"
      ],
      "text/latex": [
       "4.06451911655753"
      ],
      "text/markdown": [
       "4.06451911655753"
      ],
      "text/plain": [
       "[1] 4.064519"
      ]
     },
     "metadata": {},
     "output_type": "display_data"
    },
    {
     "data": {
      "text/html": [
       "4.85412815253844"
      ],
      "text/latex": [
       "4.85412815253844"
      ],
      "text/markdown": [
       "4.85412815253844"
      ],
      "text/plain": [
       "[1] 4.854128"
      ]
     },
     "metadata": {},
     "output_type": "display_data"
    }
   ],
   "source": [
    "rmse <- function(p, a) {\n",
    "    sqrt(mse(p, a))\n",
    "}\n",
    "\n",
    "rmse(p_train, a_train)\n",
    "rmse(p_test, a_test)"
   ]
  },
  {
   "cell_type": "code",
   "execution_count": 97,
   "metadata": {},
   "outputs": [
    {
     "data": {
      "text/html": [
       "2.9131376591509"
      ],
      "text/latex": [
       "2.9131376591509"
      ],
      "text/markdown": [
       "2.9131376591509"
      ],
      "text/plain": [
       "[1] 2.913138"
      ]
     },
     "metadata": {},
     "output_type": "display_data"
    },
    {
     "data": {
      "text/html": [
       "3.40531947447563"
      ],
      "text/latex": [
       "3.40531947447563"
      ],
      "text/markdown": [
       "3.40531947447563"
      ],
      "text/plain": [
       "[1] 3.405319"
      ]
     },
     "metadata": {},
     "output_type": "display_data"
    }
   ],
   "source": [
    "mae <- function(p, a) {\n",
    "    sum(abs(p - a)) / length(p)\n",
    "}\n",
    "\n",
    "mae(p_train, a_train)\n",
    "mae(p_test, a_test)"
   ]
  }
 ],
 "metadata": {
  "kernelspec": {
   "display_name": "R",
   "language": "R",
   "name": "ir"
  },
  "language_info": {
   "codemirror_mode": "r",
   "file_extension": ".r",
   "mimetype": "text/x-r-source",
   "name": "R",
   "pygments_lexer": "r",
   "version": "3.4.3"
  }
 },
 "nbformat": 4,
 "nbformat_minor": 2
}
